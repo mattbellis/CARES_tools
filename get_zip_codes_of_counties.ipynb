{
 "cells": [
  {
   "cell_type": "code",
   "execution_count": null,
   "metadata": {
    "colab": {
     "autoexec": {
      "startup": false,
      "wait_interval": 0
     }
    },
    "colab_type": "code",
    "id": "ghE2V7zKrKQS"
   },
   "outputs": [],
   "source": [
    "counties_of_interest={\"Albany\",\"Rensselaer\",\"Greene\",\"Ulster\",\"Jefferson\",\"Lewis\",\"Saint Lawrence\",\"Franklin\",\"Clinton\",\"Essex\",\"Hamilton\",\"Warren\",\"Fulton\",\"Saratoga\",\"Washington\",\"Montgomery\",\"Schnectady\",\"Schoharie\",\"Dutchess\",\"Rockland\"}\n",
    "  #,\"Columbia\"\n",
    "\n",
    "counties = {}\n",
    "\n",
    "counties[\"Albany\"] = [\"12159\",\"12161\"]"
   ]
  },
  {
   "cell_type": "code",
   "execution_count": null,
   "metadata": {
    "colab": {
     "autoexec": {
      "startup": false,
      "wait_interval": 0
     }
    },
    "colab_type": "code",
    "id": "46ccXLg18ba1"
   },
   "outputs": [],
   "source": [
    "#counties[\"Troy\"]"
   ]
  },
  {
   "cell_type": "code",
   "execution_count": null,
   "metadata": {
    "colab": {
     "autoexec": {
      "startup": false,
      "wait_interval": 0
     }
    },
    "colab_type": "code",
    "id": "fZoMU8xerqP-"
   },
   "outputs": [],
   "source": [
    "import requests\n",
    "import numpy as np\n",
    "from bs4 import BeautifulSoup"
   ]
  },
  {
   "cell_type": "markdown",
   "metadata": {
    "colab_type": "text",
    "id": "_C7rnKxM9mf5"
   },
   "source": [
    "Let's get the data using [requests](http://docs.python-requests.org/en/master/) and [Beautiful Soup](https://www.crummy.com/software/BeautifulSoup/)."
   ]
  },
  {
   "cell_type": "code",
   "execution_count": null,
   "metadata": {
    "colab": {
     "autoexec": {
      "startup": false,
      "wait_interval": 0
     },
     "base_uri": "https://localhost:8080/",
     "height": 1788,
     "output_extras": [
      {
       "item_id": 15
      }
     ]
    },
    "colab_type": "code",
    "executionInfo": {
     "elapsed": 11109,
     "status": "ok",
     "timestamp": 1518991109623,
     "user": {
      "displayName": "Brendan Clements",
      "photoUrl": "https://lh3.googleusercontent.com/a/default-user=s128",
      "userId": "106813016334793365858"
     },
     "user_tz": 300
    },
    "id": "TiNDGw4_rslT",
    "outputId": "146fa9f2-6b76-48a3-8596-05b851531132"
   },
   "outputs": [],
   "source": [
    "for county in counties_of_interest:\n",
    "\n",
    "  print(county)\n",
    "  \n",
    "  url = 'https://data.mongabay.com/igapo/zip_codes/counties/alpha/%s%sCounty-New%sYork1.html' % (county,\"%20\", \"%20\" )\n",
    "  \n",
    "  if county=='Saint Lawrence':\n",
    "    url = 'https://data.mongabay.com/igapo/zip_codes/counties/alpha/Saint%20Lawrence%20County-New%20York1.html'\n",
    "  \n",
    "  print(url)\n",
    "  \n",
    "  r = requests.get(url, auth=('user', 'pass'))\n",
    "  print(r.status_code)\n",
    "  print(r.headers['content-type'])\n",
    "\n",
    "  soup =  BeautifulSoup(r.text, 'html.parser')\n",
    "\n",
    "  print(soup.title)\n",
    "  \n",
    "  vals = soup.find_all(\"td\")\n",
    "\n",
    "  zcodes = []\n",
    "\n",
    "  for val in vals:\n",
    "\n",
    "    x = val.get_text()\n",
    "\n",
    "    zcode = 0\n",
    "\n",
    "    if len(x)<5:\n",
    "      continue\n",
    "\n",
    "    try:\n",
    "      zcode = int(x[0:5])\n",
    "    except ValueError:\n",
    "      #print(x)\n",
    "      1\n",
    "\n",
    "    if int(zcode)>1000:\n",
    "      if zcode not in zcodes:\n",
    "        zcodes.append(zcode)\n",
    "        \n",
    "  counties[county] = zcodes\n",
    "\n",
    "  \n",
    "print(counties['Albany'])"
   ]
  },
  {
   "cell_type": "code",
   "execution_count": null,
   "metadata": {
    "colab": {
     "autoexec": {
      "startup": false,
      "wait_interval": 0
     },
     "base_uri": "https://localhost:8080/",
     "height": 381,
     "output_extras": [
      {
       "item_id": 1
      }
     ]
    },
    "colab_type": "code",
    "executionInfo": {
     "elapsed": 843,
     "status": "ok",
     "timestamp": 1517852893344,
     "user": {
      "displayName": "Brendan Clements",
      "photoUrl": "https://lh3.googleusercontent.com/a/default-user=s128",
      "userId": "106813016334793365858"
     },
     "user_tz": 300
    },
    "id": "wgKfPDc7_8Ls",
    "outputId": "12bce40d-5376-4f3b-b4f5-b497053c1a69"
   },
   "outputs": [],
   "source": [
    "keys = counties.keys()\n",
    "\n",
    "for key in keys:\n",
    "  zips = counties[key]\n",
    "  \n",
    "  print(\"key: %15s    # zips: %d\" % (key,len(zips)))"
   ]
  },
  {
   "cell_type": "code",
   "execution_count": null,
   "metadata": {
    "colab": {
     "autoexec": {
      "startup": false,
      "wait_interval": 0
     },
     "base_uri": "https://localhost:8080/",
     "height": 225,
     "output_extras": [
      {
       "item_id": 3
      }
     ]
    },
    "colab_type": "code",
    "executionInfo": {
     "elapsed": 4429,
     "status": "ok",
     "timestamp": 1517852898117,
     "user": {
      "displayName": "Brendan Clements",
      "photoUrl": "https://lh3.googleusercontent.com/a/default-user=s128",
      "userId": "106813016334793365858"
     },
     "user_tz": 300
    },
    "id": "QDMq6010vf5B",
    "outputId": "8d93288e-0599-4f21-b34d-7d01df2391ad"
   },
   "outputs": [],
   "source": [
    "!pip install folium\n",
    "\n",
    "!pip install zipcode"
   ]
  },
  {
   "cell_type": "code",
   "execution_count": null,
   "metadata": {
    "colab": {
     "autoexec": {
      "startup": false,
      "wait_interval": 0
     },
     "base_uri": "https://localhost:8080/",
     "height": 235,
     "output_extras": [
      {
       "item_id": 1
      }
     ]
    },
    "colab_type": "code",
    "executionInfo": {
     "elapsed": 10892,
     "status": "error",
     "timestamp": 1517852909072,
     "user": {
      "displayName": "Brendan Clements",
      "photoUrl": "https://lh3.googleusercontent.com/a/default-user=s128",
      "userId": "106813016334793365858"
     },
     "user_tz": 300
    },
    "id": "h3_ngxP3zB3K",
    "outputId": "eb3c4da4-7cef-4d11-c3cb-44a27bdee868"
   },
   "outputs": [],
   "source": [
    "from folium.plugins import MarkerCluster\n",
    "import folium\n",
    "import os\n",
    "\n",
    "\n",
    "import zipcode\n",
    "\n",
    "\n",
    "zcodes = counties[\"Albany\"]\n",
    "#print(zcodes)\n",
    "\n",
    "colors = ['red','blue','green','black']\n",
    "\n",
    "myzip = zipcode.isequal(str(zcodes[0]))\n",
    "\n",
    "m = folium.Map(location=[myzip.lat, myzip.lon], zoom_start=8)\n",
    "#marker_cluster = MarkerCluster().add_to(m)\n",
    "\n",
    "\n",
    "for i,key in enumerate(counties.keys()):\n",
    "\n",
    "  zcodes = counties[key]\n",
    "  \n",
    "  for zcode in zcodes:\n",
    "    myzip = zipcode.isequal(str(zcode))\n",
    "    #print(zcode, myzip.lat,myzip.lon)\n",
    "\n",
    "    '''\n",
    "    idx = 0\n",
    "    while 1:\n",
    "      if zcode not in zindices:\n",
    "        zcode += 1\n",
    "      else:\n",
    "        idx = zindices.index(zcode)\n",
    "        break\n",
    "\n",
    "    lat = allzipcodes[1][idx]\n",
    "    lon = allzipcodes[2][idx]\n",
    "\n",
    "    '''\n",
    "    lat = myzip.lat\n",
    "    lon = myzip.lon\n",
    "\n",
    "    folium.Marker(\n",
    "      location=[lat, lon],\n",
    "      popup=str(zcode),\n",
    "      icon=folium.Icon(color=colors[i% len(colors)], icon='ok-sign'),\n",
    "  ).add_to(m)\n",
    "\n",
    "\n",
    "m.save('maptest.html')\n",
    "\n",
    "m"
   ]
  },
  {
   "cell_type": "code",
   "execution_count": null,
   "metadata": {
    "colab": {
     "autoexec": {
      "startup": false,
      "wait_interval": 0
     },
     "base_uri": "https://localhost:8080/",
     "height": 72,
     "output_extras": [
      {
       "item_id": 1
      }
     ]
    },
    "colab_type": "code",
    "executionInfo": {
     "elapsed": 1139,
     "status": "ok",
     "timestamp": 1517852851162,
     "user": {
      "displayName": "Brendan Clements",
      "photoUrl": "https://lh3.googleusercontent.com/a/default-user=s128",
      "userId": "106813016334793365858"
     },
     "user_tz": 300
    },
    "id": "wsEZnjwyzbr9",
    "outputId": "2c28e932-f86c-48a8-8fac-a9b5bd451b33"
   },
   "outputs": [],
   "source": [
    "z = counties[\"Albany\"]\n",
    "\n",
    "print(z)\n",
    "\n",
    "if 12211 in z:\n",
    "  print(\"This is in the county!\")\n",
    "else:\n",
    "  print(\"This is not in the county\")"
   ]
  },
  {
   "cell_type": "code",
   "execution_count": null,
   "metadata": {
    "colab": {
     "autoexec": {
      "startup": false,
      "wait_interval": 0
     }
    },
    "colab_type": "code",
    "id": "BM5wHjV31TV2"
   },
   "outputs": [],
   "source": [
    "x = zcodes[20]"
   ]
  },
  {
   "cell_type": "code",
   "execution_count": null,
   "metadata": {
    "colab": {
     "autoexec": {
      "startup": false,
      "wait_interval": 0
     }
    },
    "colab_type": "code",
    "id": "6Ra0fvoq1-cu"
   },
   "outputs": [],
   "source": [
    "a = zipcode.isequal(str(x))"
   ]
  },
  {
   "cell_type": "code",
   "execution_count": null,
   "metadata": {
    "colab": {
     "autoexec": {
      "startup": false,
      "wait_interval": 0
     },
     "base_uri": "https://localhost:8080/",
     "height": 225,
     "output_extras": [
      {
       "item_id": 1
      }
     ]
    },
    "colab_type": "code",
    "executionInfo": {
     "elapsed": 848,
     "status": "ok",
     "timestamp": 1517852856344,
     "user": {
      "displayName": "Brendan Clements",
      "photoUrl": "https://lh3.googleusercontent.com/a/default-user=s128",
      "userId": "106813016334793365858"
     },
     "user_tz": 300
    },
    "id": "vi9kCVhz2B-X",
    "outputId": "9b7099a6-604a-4676-9773-4df75105a405"
   },
   "outputs": [],
   "source": [
    "a.to_dict()"
   ]
  },
  {
   "cell_type": "code",
   "execution_count": null,
   "metadata": {
    "colab": {
     "autoexec": {
      "startup": false,
      "wait_interval": 0
     }
    },
    "colab_type": "code",
    "id": "OY6Ky5LZ2G3b"
   },
   "outputs": [],
   "source": []
  },
  {
   "cell_type": "code",
   "execution_count": null,
   "metadata": {
    "colab": {
     "autoexec": {
      "startup": false,
      "wait_interval": 0
     },
     "base_uri": "https://localhost:8080/",
     "height": 228,
     "output_extras": [
      {
       "item_id": 2
      }
     ]
    },
    "colab_type": "code",
    "executionInfo": {
     "elapsed": 1715,
     "status": "ok",
     "timestamp": 1517852860072,
     "user": {
      "displayName": "Brendan Clements",
      "photoUrl": "https://lh3.googleusercontent.com/a/default-user=s128",
      "userId": "106813016334793365858"
     },
     "user_tz": 300
    },
    "id": "aY1Na2HE2gNT",
    "outputId": "28d147c0-8118-439d-d221-9f630476cc3c"
   },
   "outputs": [],
   "source": [
    "!wget 'https://gist.githubusercontent.com/erichurst/7882666/raw/5bdc46db47d9515269ab12ed6fb2850377fd869e/US%2520Zip%2520Codes%2520from%25202013%2520Government%2520Data'\n"
   ]
  },
  {
   "cell_type": "code",
   "execution_count": null,
   "metadata": {
    "colab": {
     "autoexec": {
      "startup": false,
      "wait_interval": 0
     }
    },
    "colab_type": "code",
    "id": "6wLelkb-2rAW"
   },
   "outputs": [],
   "source": [
    "infilename = 'US%20Zip%20Codes%20from%202013%20Government%20Data'\n",
    "allzipcodes = np.loadtxt(infilename,unpack=True,delimiter=',',skiprows=1)"
   ]
  },
  {
   "cell_type": "code",
   "execution_count": null,
   "metadata": {
    "colab": {
     "autoexec": {
      "startup": false,
      "wait_interval": 0
     }
    },
    "colab_type": "code",
    "id": "ohRdCTql3mIR"
   },
   "outputs": [],
   "source": [
    "len(allzipcodes[0])\n",
    "\n",
    "zindices = allzipcodes[0].astype(int).tolist()"
   ]
  },
  {
   "cell_type": "code",
   "execution_count": null,
   "metadata": {
    "colab": {
     "autoexec": {
      "startup": false,
      "wait_interval": 0
     }
    },
    "colab_type": "code",
    "id": "b2Zqjo2QQyJg"
   },
   "outputs": [],
   "source": [
    "counties"
   ]
  },
  {
   "cell_type": "code",
   "execution_count": null,
   "metadata": {},
   "outputs": [],
   "source": [
    "zipvals = np.loadtxt('zipcodes_coordinates.txt',skiprows=1,unpack=True,dtype=str,delimiter=',')"
   ]
  },
  {
   "cell_type": "code",
   "execution_count": null,
   "metadata": {},
   "outputs": [],
   "source": [
    "keys = counties.keys()\n",
    "\n",
    "for key in keys:\n",
    "    county = counties[key]\n",
    "    \n",
    "    newinfo = {}\n",
    "    \n",
    "    for azipcode in counties[key]:\n",
    "        \n",
    "        zcode = azipcode\n",
    "        \n",
    "        found_zipcode=False\n",
    "        while found_zipcode==False:\n",
    "            z = str(zcode)\n",
    "            try:\n",
    "                idx = zipvals[0].tolist().index(z)\n",
    "                found_zipcode = True\n",
    "            except:\n",
    "                print(\"Couldn't find it: \",zcode)\n",
    "                zcode -= 1\n",
    "            \n",
    "        lat = float(zipvals[1][idx])\n",
    "        lon = float(zipvals[2][idx])\n",
    "        \n",
    "        newinfo[str(azipcode)] = {}\n",
    "        newinfo[str(azipcode)][\"lat\"] = lat\n",
    "        newinfo[str(azipcode)][\"lon\"] = lon\n",
    "\n",
    "        print(lat,lon)\n",
    "    counties[key] = newinfo"
   ]
  },
  {
   "cell_type": "code",
   "execution_count": null,
   "metadata": {},
   "outputs": [],
   "source": [
    "counties"
   ]
  },
  {
   "cell_type": "code",
   "execution_count": null,
   "metadata": {},
   "outputs": [],
   "source": [
    "keys = counties.keys()\n",
    "\n",
    "zipinfos = {}\n",
    "\n",
    "for key in keys:\n",
    "    \n",
    "    zips = counties[key].keys()\n",
    "    \n",
    "    for z in zips:\n",
    "        zipinfos[z] = key"
   ]
  },
  {
   "cell_type": "code",
   "execution_count": null,
   "metadata": {},
   "outputs": [],
   "source": [
    "zipinfos"
   ]
  },
  {
   "cell_type": "code",
   "execution_count": null,
   "metadata": {},
   "outputs": [],
   "source": [
    "import pickle\n",
    "\n",
    "filename = \"CARES_zipcode_data.pkl\"\n",
    "outfile = open(filename,'wb')\n",
    "\n",
    "pickle.dump([counties,zipinfos],outfile,1)\n",
    "#pickle.dump(zipinfos,outfile,1)\n",
    "outfile.close()\n"
   ]
  },
  {
   "cell_type": "code",
   "execution_count": null,
   "metadata": {},
   "outputs": [],
   "source": [
    "!ls -ltr"
   ]
  },
  {
   "cell_type": "code",
   "execution_count": null,
   "metadata": {},
   "outputs": [],
   "source": [
    "c,z = pickle.load(open('CARES_zipcode_data.pkl','rb'),encoding='latin')"
   ]
  },
  {
   "cell_type": "code",
   "execution_count": null,
   "metadata": {},
   "outputs": [],
   "source": [
    "z"
   ]
  },
  {
   "cell_type": "code",
   "execution_count": null,
   "metadata": {},
   "outputs": [],
   "source": []
  }
 ],
 "metadata": {
  "colab": {
   "collapsed_sections": [],
   "default_view": {},
   "name": "get_zip_codes_of_counties.ipynb",
   "provenance": [],
   "version": "0.3.2",
   "views": {}
  },
  "kernelspec": {
   "display_name": "Python 3",
   "language": "python",
   "name": "python3"
  },
  "language_info": {
   "codemirror_mode": {
    "name": "ipython",
    "version": 3
   },
   "file_extension": ".py",
   "mimetype": "text/x-python",
   "name": "python",
   "nbconvert_exporter": "python",
   "pygments_lexer": "ipython3",
   "version": "3.7.0"
  }
 },
 "nbformat": 4,
 "nbformat_minor": 1
}
